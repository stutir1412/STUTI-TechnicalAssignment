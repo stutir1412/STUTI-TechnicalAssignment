{
 "cells": [
  {
   "cell_type": "markdown",
   "id": "ff89706d",
   "metadata": {},
   "source": [
    "# Assignment 1: Extracting text from PDF"
   ]
  },
  {
   "cell_type": "code",
   "execution_count": 1,
   "id": "90e91d18",
   "metadata": {},
   "outputs": [],
   "source": [
    "# Import all necessary Libraries\n",
    "\n",
    "import fitz  # PyMuPDF\n",
    "import cv2\n",
    "import numpy as np\n",
    "import openpyxl\n",
    "from openpyxl.styles import Alignment\n",
    "import pandas as pd"
   ]
  },
  {
   "cell_type": "code",
   "execution_count": 2,
   "id": "7b11b3ef",
   "metadata": {},
   "outputs": [],
   "source": [
    "# Python Script for extracting text from pdf using PYMuPDF Lib\n",
    "\n",
    "def extract_text_blocks(pdf_path, page_number):\n",
    "    # Open the PDF document using PyMuPDF\n",
    "    doc = fitz.open(pdf_path)\n",
    "    text_blocks = []\n",
    "\n",
    "    # Extract text blocks from the specified page\n",
    "    page = doc[page_number]\n",
    "    blocks = page.get_text(\"blocks\")\n",
    "\n",
    "    # Collect text, x, and y coordinates for each block\n",
    "    for block in blocks:\n",
    "        text = block[4]\n",
    "        x, y, _, _ = block[:4]\n",
    "        text_blocks.append((x, y, text))\n",
    "\n",
    "    # Sort text blocks based on coordinate\n",
    "    return sorted(text_blocks, key=lambda x: (x[0], x[1]))\n",
    "\n",
    "def group_blocks_by_columns(text_blocks, column_threshold=50, vertical_threshold=30):\n",
    "    grouped_blocks = []\n",
    "    current_column = []\n",
    "    prev_x = None\n",
    "    prev_y = None\n",
    "\n",
    "    # Iterate through each text block\n",
    "    for x, y, text in text_blocks:\n",
    "        # Check if the block belongs to the current column based on both x and y coordinates\n",
    "        if (prev_x is None or abs(x - prev_x) < column_threshold) and (prev_y is None or abs(y - prev_y) < vertical_threshold):\n",
    "            current_column.append(text)\n",
    "        else:\n",
    "            # Start a new column if x-coordinate difference or y-coordinate difference exceeds the threshold\n",
    "            grouped_blocks.append(current_column)\n",
    "            current_column = [text]\n",
    "\n",
    "        prev_x = x\n",
    "        prev_y = y\n",
    "\n",
    "    # Add the last column\n",
    "    grouped_blocks.append(current_column)\n",
    "    return grouped_blocks\n",
    "\n",
    "def write_to_excel(grouped_blocks, excel_path):\n",
    "    # Create a new Excel workbook and select the active sheet\n",
    "    wb = openpyxl.Workbook()\n",
    "    ws = wb.active\n",
    "\n",
    "    # Write each text block in a new row\n",
    "    for column in grouped_blocks:\n",
    "        for text_block in column:\n",
    "            ws.append([text_block])\n",
    "\n",
    "    # Adjust column width based on the maximum length of text in the column\n",
    "    max_length = max(len(text_block) for column in grouped_blocks for text_block in column)\n",
    "    adjusted_width = max_length + 2\n",
    "    ws.column_dimensions['A'].width = adjusted_width\n",
    "\n",
    "    # Set text alignment to wrap for each cell\n",
    "    for row in ws.iter_rows():\n",
    "        for cell in row:\n",
    "            cell.alignment = Alignment(wrap_text=True)\n",
    "\n",
    "    # Save the Excel workbook\n",
    "    wb.save(excel_path)\n",
    "\n",
    "\n",
    "def main(pdf_path, excel_path, page_number):\n",
    "    # Extract text blocks from the specified page of the PDF document\n",
    "    text_blocks = extract_text_blocks(pdf_path, page_number)\n",
    "    \n",
    "    # Group text blocks into columns based on x-coordinate differences\n",
    "    grouped_blocks = group_blocks_by_columns(text_blocks)\n",
    "    \n",
    "    # Write the grouped text blocks to an Excel file\n",
    "    write_to_excel(grouped_blocks, excel_path)\n",
    "\n",
    "if __name__ == \"__main__\":\n",
    "    # Specify the path to the input PDF document, the output Excel file, and the page number\n",
    "    pdf_path = \"C:/Users/stuti/anaconda3/envs/psupr/WalnutAI/keppel-corporation-limited-annual-report-2018.pdf\"\n",
    "    excel_path = \"output1.xlsx\"\n",
    "    page_number = 11  # Replace with the desired page number (starting from 0)\n",
    "\n",
    "    # Run the main function\n",
    "    task1_excel= main(pdf_path, excel_path, page_number)"
   ]
  },
  {
   "cell_type": "markdown",
   "id": "0c008526",
   "metadata": {},
   "source": [
    "Once this python script sucessfully runs, it dumps the extracted text to output1.xlsx"
   ]
  },
  {
   "cell_type": "markdown",
   "id": "65d56ad7",
   "metadata": {},
   "source": [
    "# Assignment 2: Extracting table from PDF"
   ]
  },
  {
   "cell_type": "markdown",
   "id": "ae71d18b",
   "metadata": {},
   "source": [
    "Initially, plan was to use Cascadetabnet (A pre-trained DNN for table detection). However, due to compatibility/version issue I wasn't able to run in both anaconda and google colab. Thus, I only proceeded using Camelot library "
   ]
  },
  {
   "cell_type": "code",
   "execution_count": 3,
   "id": "6c86a4b1",
   "metadata": {},
   "outputs": [],
   "source": [
    "import camelot\n",
    "\n",
    "def extract_tables_from_page(pdf_path, page_number):\n",
    "    # Specify the path to PDF file\n",
    "    pdf_path = \"C:/Users/stuti/anaconda3/envs/psupr/WalnutAI/keppel-corporation-limited-annual-report-2018.pdf\"\n",
    "\n",
    "    # Use camelot to extract tables from a specific page\n",
    "    tables = camelot.read_pdf(pdf_path, flavor='stream', pages=str(page_number))\n",
    "\n",
    "    # Access each table\n",
    "    for i, table in enumerate(tables):\n",
    "        df = table.df\n",
    "        # Now 'df' contains the extracted table as a pandas DataFrame\n",
    "        # Save it to Excel \n",
    "        df.to_excel(f\"table_page_{page_number}_{i}.xlsx\", index=False)\n",
    "\n",
    "# Specify the page number you want to extract tables from\n",
    "page_number = 69  # Change this to desired page number (starting from 1)\n",
    "pdf_path = \"C:/Users/stuti/anaconda3/envs/psupr/WalnutAI/keppel-corporation-limited-annual-report-2018.pdf\"\n",
    "\n",
    "# Call the function to extract tables from the specified page\n",
    "extract_tables_from_page(pdf_path, page_number)\n"
   ]
  }
 ],
 "metadata": {
  "kernelspec": {
   "display_name": "Python 3 (ipykernel)",
   "language": "python",
   "name": "python3"
  },
  "language_info": {
   "codemirror_mode": {
    "name": "ipython",
    "version": 3
   },
   "file_extension": ".py",
   "mimetype": "text/x-python",
   "name": "python",
   "nbconvert_exporter": "python",
   "pygments_lexer": "ipython3",
   "version": "3.7.16"
  }
 },
 "nbformat": 4,
 "nbformat_minor": 5
}
